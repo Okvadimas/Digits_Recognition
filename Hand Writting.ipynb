{
 "cells": [
  {
   "cell_type": "code",
   "execution_count": 1,
   "metadata": {},
   "outputs": [
    {
     "data": {
      "text/plain": [
       "'1.15.3'"
      ]
     },
     "execution_count": 1,
     "metadata": {},
     "output_type": "execute_result"
    }
   ],
   "source": [
    "import tensorflow as tf\n",
    "tf.__version__"
   ]
  },
  {
   "cell_type": "code",
   "execution_count": 2,
   "metadata": {},
   "outputs": [],
   "source": [
    "dataset = tf.keras.datasets.mnist # 28x28 image (hand written) 0-9\n",
    "(X_train, y_train), (X_test, y_test) = dataset.load_data()"
   ]
  },
  {
   "cell_type": "code",
   "execution_count": 6,
   "metadata": {},
   "outputs": [
    {
     "name": "stdout",
     "output_type": "stream",
     "text": [
      "(28, 28)\n"
     ]
    },
    {
     "data": {
      "text/plain": [
       "<matplotlib.image.AxesImage at 0x1a17f268b88>"
      ]
     },
     "execution_count": 6,
     "metadata": {},
     "output_type": "execute_result"
    },
    {
     "data": {
      "image/png": "[encoded data removed]",
      "text/plain": [
       "<Figure size 432x288 with 1 Axes>"
      ]
     },
     "metadata": {
      "needs_background": "light"
     },
     "output_type": "display_data"
    }
   ],
   "source": [
    "import matplotlib.pyplot as plt\n",
    "print(X_train[0].shape)\n",
    "plt.imshow(X_train[1])\n",
    "# print(X_train[0])"
   ]
  },
  {
   "cell_type": "code",
   "execution_count": 8,
   "metadata": {},
   "outputs": [],
   "source": [
    "# normalize\n",
    "X_train = tf.keras.utils.normalize(X_train, axis=1)\n",
    "X_test = tf.keras.utils.normalize(X_test, axis=1)"
   ]
  },
  {
   "cell_type": "code",
   "execution_count": 9,
   "metadata": {},
   "outputs": [],
   "source": [
    "# Algorithm\n",
    "model = tf.keras.models.Sequential()\n",
    "model.add(tf.keras.layers.Flatten()) # input layer di flat \n",
    "model.add(tf.keras.layers.Dense(128, activation=tf.nn.relu)) #Hiden layer 1\n",
    "model.add(tf.keras.layers.Dense(128, activation=tf.nn.relu)) #Hiden layer 2\n",
    "model.add(tf.keras.layers.Dense(10, activation=tf.nn.softmax)) #output layer"
   ]
  },
  {
   "cell_type": "code",
   "execution_count": 10,
   "metadata": {},
   "outputs": [
    {
     "name": "stdout",
     "output_type": "stream",
     "text": [
      "WARNING:tensorflow:From C:\\Anaconda\\lib\\site-packages\\tensorflow_core\\python\\ops\\resource_variable_ops.py:1630: calling BaseResourceVariable.__init__ (from tensorflow.python.ops.resource_variable_ops) with constraint is deprecated and will be removed in a future version.\n",
      "Instructions for updating:\n",
      "If using Keras pass *_constraint arguments to layers.\n",
      "Train on 60000 samples\n",
      "Epoch 1/10\n",
      "60000/60000 [==============================] - 6s 99us/sample - loss: 0.2596 - acc: 0.9249\n",
      "Epoch 2/10\n",
      "60000/60000 [==============================] - 5s 80us/sample - loss: 0.1063 - acc: 0.9679\n",
      "Epoch 3/10\n",
      "60000/60000 [==============================] - 6s 93us/sample - loss: 0.0718 - acc: 0.9770\n",
      "Epoch 4/10\n",
      "60000/60000 [==============================] - 6s 108us/sample - loss: 0.0539 - acc: 0.9826\n",
      "Epoch 5/10\n",
      "60000/60000 [==============================] - 5s 87us/sample - loss: 0.0404 - acc: 0.9872\n",
      "Epoch 6/10\n",
      "60000/60000 [==============================] - 5s 82us/sample - loss: 0.0303 - acc: 0.9899\n",
      "Epoch 7/10\n",
      "60000/60000 [==============================] - 5s 88us/sample - loss: 0.0256 - acc: 0.9916\n",
      "Epoch 8/10\n",
      "60000/60000 [==============================] - 5s 80us/sample - loss: 0.0209 - acc: 0.9928\n",
      "Epoch 9/10\n",
      "60000/60000 [==============================] - 5s 82us/sample - loss: 0.0167 - acc: 0.9943\n",
      "Epoch 10/10\n",
      "60000/60000 [==============================] - 5s 78us/sample - loss: 0.0153 - acc: 0.9949\n"
     ]
    },
    {
     "data": {
      "text/plain": [
       "<tensorflow.python.keras.callbacks.History at 0x1a1069b4648>"
      ]
     },
     "execution_count": 10,
     "metadata": {},
     "output_type": "execute_result"
    }
   ],
   "source": [
    "# fit\n",
    "model.compile(optimizer=\"adam\", loss=\"sparse_categorical_crossentropy\", metrics=[\"accuracy\"])\n",
    "model.fit(X_train, y_train, epochs=10)"
   ]
  },
  {
   "cell_type": "code",
   "execution_count": 11,
   "metadata": {},
   "outputs": [
    {
     "name": "stdout",
     "output_type": "stream",
     "text": [
      "10000/10000 [==============================] - 0s 44us/sample - loss: 0.1163 - acc: 0.9771\n",
      "0.116285083785791 0.9771\n"
     ]
    }
   ],
   "source": [
    "val_loss, val_acc = model.evaluate(X_test, y_test)\n",
    "print(val_loss, val_acc)"
   ]
  },
  {
   "cell_type": "code",
   "execution_count": null,
   "metadata": {},
   "outputs": [],
   "source": [
    "# model.save(\"model_tf_hand_writting\")"
   ]
  },
  {
   "cell_type": "code",
   "execution_count": 12,
   "metadata": {},
   "outputs": [],
   "source": [
    "new_model = tf.keras.models.load_model(\"model_tf_hand_writting\")"
   ]
  },
  {
   "cell_type": "code",
   "execution_count": 14,
   "metadata": {},
   "outputs": [],
   "source": [
    "predictions = new_model.predict(X_test)"
   ]
  },
  {
   "cell_type": "code",
   "execution_count": 15,
   "metadata": {},
   "outputs": [
    {
     "name": "stdout",
     "output_type": "stream",
     "text": [
      "7\n"
     ]
    }
   ],
   "source": [
    "import numpy as np\n",
    "print(np.argmax(predictions[0]))"
   ]
  },
  {
   "cell_type": "code",
   "execution_count": 16,
   "metadata": {},
   "outputs": [
    {
     "data": {
      "text/plain": [
       "<matplotlib.image.AxesImage at 0x1a107d12288>"
      ]
     },
     "execution_count": 16,
     "metadata": {},
     "output_type": "execute_result"
    },
    {
     "data": {
      "image/png": "[encoded data removed]",
      "text/plain": [
       "<Figure size 432x288 with 1 Axes>"
      ]
     },
     "metadata": {
      "needs_background": "light"
     },
     "output_type": "display_data"
    }
   ],
   "source": [
    "plt.imshow(X_test[0])"
   ]
  },
  {
   "cell_type": "code",
   "execution_count": null,
   "metadata": {},
   "outputs": [],
   "source": [
    "# from tkinter import *\n",
    "# import tkinter as tk\n",
    "# import win32gui\n",
    "# from PIL import ImageGrab, Image\n",
    "# import numpy as np\n",
    "# model = tf.keras.models.load_model('model_tf_hand_writting')\n",
    "# def predict_digit(img):\n",
    "#     #resize image to 28x28 pixels\n",
    "#     img = img.resize((28,28))\n",
    "#     #convert rgb to grayscale\n",
    "#     img = img.convert('L')\n",
    "#     img = np.array(img)\n",
    "#     #reshaping to support our model input and normalizing\n",
    "#     img = img.reshape(1,28,28,1)\n",
    "#     img = img/255.0\n",
    "#     #predicting the class\n",
    "#     res = model.predict([img])[0]\n",
    "#     return np.argmax(res), max(res)\n",
    "# class App(tk.Tk):\n",
    "#     def __init__(self):\n",
    "#         tk.Tk.__init__(self)\n",
    "#         self.x = self.y = 0\n",
    "#         # Creating elements\n",
    "#         self.canvas = tk.Canvas(self, width=300, height=300, bg = \"white\", cursor=\"cross\")\n",
    "#         self.label = tk.Label(self, text=\"Thinking..\", font=(\"Helvetica\", 48))\n",
    "#         self.classify_btn = tk.Button(self, text = \"Recognise\", command =  self.classify_handwriting) \n",
    "#         self.button_clear = tk.Button(self, text = \"Clear\", command = self.clear_all)\n",
    "#         # Grid structure\n",
    "#         self.canvas.grid(row=0, column=0, pady=2, sticky=W, )\n",
    "#         self.label.grid(row=0, column=1,pady=2, padx=2)\n",
    "#         self.classify_btn.grid(row=1, column=1, pady=2, padx=2)\n",
    "#         self.button_clear.grid(row=1, column=0, pady=2)\n",
    "#         #self.canvas.bind(\"<Motion>\", self.start_pos)\n",
    "#         self.canvas.bind(\"<B1-Motion>\", self.draw_lines)\n",
    "#     def clear_all(self):\n",
    "#         self.canvas.delete(\"all\")\n",
    "#     def classify_handwriting(self):\n",
    "#         HWND = self.canvas.winfo_id() # get the handle of the canvas\n",
    "#         rect = win32gui.GetWindowRect(HWND) # get the coordinate of the canvas\n",
    "#         im = ImageGrab.grab(rect)\n",
    "#         digit, acc = predict_digit(im)\n",
    "#         self.label.configure(text= str(digit)+', '+ str(int(acc*100))+'%')\n",
    "#     def draw_lines(self, event):\n",
    "#         self.x = event.x\n",
    "#         self.y = event.y\n",
    "#         r=8\n",
    "#         self.canvas.create_oval(self.x-r, self.y-r, self.x + r, self.y + r, fill='black')\n",
    "# app = App()\n",
    "# mainloop()"
   ]
  },
  {
   "cell_type": "code",
   "execution_count": null,
   "metadata": {},
   "outputs": [],
   "source": []
  }
 ],
 "metadata": {
  "kernelspec": {
   "display_name": "Python 3",
   "language": "python",
   "name": "python3"
  },
  "language_info": {
   "codemirror_mode": {
    "name": "ipython",
    "version": 3
   },
   "file_extension": ".py",
   "mimetype": "text/x-python",
   "name": "python",
   "nbconvert_exporter": "python",
   "pygments_lexer": "ipython3",
   "version": "3.7.4"
  }
 },
 "nbformat": 4,
 "nbformat_minor": 2
}
